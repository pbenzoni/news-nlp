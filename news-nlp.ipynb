{
 "cells": [
  {
   "cell_type": "markdown",
   "metadata": {},
   "source": [
    "# 207 final project\n",
    "### Peter Benzoni\n",
    "\n",
    "## Data loading, filtering, and cleaning "
   ]
  },
  {
   "cell_type": "code",
   "execution_count": 1,
   "metadata": {},
   "outputs": [
    {
     "name": "stdout",
     "output_type": "stream",
     "text": [
      "   Unnamed: 0     id                                              title  \\\n",
      "0           0  17283  House Republicans Fret About Winning Their Hea...   \n",
      "1           1  17284  Rift Between Officers and Residents as Killing...   \n",
      "2           2  17285  Tyrus Wong, ‘Bambi’ Artist Thwarted by Racial ...   \n",
      "3           3  17286  Among Deaths in 2016, a Heavy Toll in Pop Musi...   \n",
      "4           4  17287  Kim Jong-un Says North Korea Is Preparing to T...   \n",
      "\n",
      "      publication                         author        date    year month  \\\n",
      "0  New York Times                     Carl Hulse  2016-12-31  2016.0  12.0   \n",
      "1  New York Times  Benjamin Mueller and Al Baker  2017-06-19  2017.0   6.0   \n",
      "2  New York Times                   Margalit Fox  2017-01-06  2017.0   1.0   \n",
      "3  New York Times               William McDonald  2017-04-10  2017.0   4.0   \n",
      "4  New York Times                  Choe Sang-Hun  2017-01-02  2017.0   1.0   \n",
      "\n",
      "                                             content  \\\n",
      "0  WASHINGTON  —   Congressional Republicans have...   \n",
      "1  After the bullet shells get counted, the blood...   \n",
      "2  When Walt Disney’s “Bambi” opened in 1942, cri...   \n",
      "3  Death may be the great equalizer, but it isn’t...   \n",
      "4  SEOUL, South Korea  —   North Korea’s leader, ...   \n",
      "\n",
      "                                    combined_content  \n",
      "0  House Republicans Fret About Winning Their Hea...  \n",
      "1  Rift Between Officers and Residents as Killing...  \n",
      "2  Tyrus Wong, ‘Bambi’ Artist Thwarted by Racial ...  \n",
      "3  Among Deaths in 2016, a Heavy Toll in Pop Musi...  \n",
      "4  Kim Jong-un Says North Korea Is Preparing to T...  \n"
     ]
    }
   ],
   "source": [
    "import pandas as pd\n",
    "\n",
    "# Load the datasets\n",
    "df1 = pd.read_csv('articles1.csv')\n",
    "df2 = pd.read_csv('articles2.csv')\n",
    "df3 = pd.read_csv('articles3.csv')\n",
    "\n",
    "# Combine the dataframes\n",
    "df = pd.concat([df1, df2, df3], ignore_index=True)\n",
    "\n",
    "# Drop any duplicate articles based on 'id'\n",
    "df.drop_duplicates(subset='id', keep='first', inplace=True)\n",
    "\n",
    "# Filter out articles from specified publications\n",
    "excluded_publications = ['Breitbart', 'New York Post', 'Fox News', 'Talking Points Memo']\n",
    "df = df[~df['publication'].isin(excluded_publications)]\n",
    "\n",
    "# Handling missing values - filling NA values with a placeholder or removing them\n",
    "df.fillna('Unknown', inplace=True)  \n",
    "\n",
    "\n",
    "# Convert the data into a format suitable for NLP analysis \n",
    "df['combined_content'] = df['title'] + ': ' + df['content']\n",
    "\n",
    "# Now, df['combined_content'] can be used for NLP analysis\n",
    "print(df.head())"
   ]
  },
  {
   "cell_type": "code",
   "execution_count": 2,
   "metadata": {},
   "outputs": [
    {
     "ename": "ModuleNotFoundError",
     "evalue": "No module named 'sklearn'",
     "output_type": "error",
     "traceback": [
      "\u001b[1;31m---------------------------------------------------------------------------\u001b[0m",
      "\u001b[1;31mModuleNotFoundError\u001b[0m                       Traceback (most recent call last)",
      "\u001b[1;32mc:\\Users\\PeterBenzoni\\repo\\news-nlp\\news-nlp.ipynb Cell 3\u001b[0m line \u001b[0;36m1\n\u001b[1;32m----> <a href='vscode-notebook-cell:/c%3A/Users/PeterBenzoni/repo/news-nlp/news-nlp.ipynb#W3sZmlsZQ%3D%3D?line=0'>1</a>\u001b[0m \u001b[39mfrom\u001b[39;00m \u001b[39msklearn\u001b[39;00m\u001b[39m.\u001b[39;00m\u001b[39mfeature_extraction\u001b[39;00m\u001b[39m.\u001b[39;00m\u001b[39mtext\u001b[39;00m \u001b[39mimport\u001b[39;00m CountVectorizer\n\u001b[0;32m      <a href='vscode-notebook-cell:/c%3A/Users/PeterBenzoni/repo/news-nlp/news-nlp.ipynb#W3sZmlsZQ%3D%3D?line=1'>2</a>\u001b[0m \u001b[39mfrom\u001b[39;00m \u001b[39mgensim\u001b[39;00m\u001b[39m.\u001b[39;00m\u001b[39mcorpora\u001b[39;00m \u001b[39mimport\u001b[39;00m Dictionary\n\u001b[0;32m      <a href='vscode-notebook-cell:/c%3A/Users/PeterBenzoni/repo/news-nlp/news-nlp.ipynb#W3sZmlsZQ%3D%3D?line=2'>3</a>\u001b[0m \u001b[39mfrom\u001b[39;00m \u001b[39mgensim\u001b[39;00m\u001b[39m.\u001b[39;00m\u001b[39mmodels\u001b[39;00m \u001b[39mimport\u001b[39;00m LdaModel\n",
      "\u001b[1;31mModuleNotFoundError\u001b[0m: No module named 'sklearn'"
     ]
    }
   ],
   "source": [
    "from sklearn.feature_extraction.text import CountVectorizer\n",
    "from gensim.corpora import Dictionary\n",
    "from gensim.models import LdaModel\n",
    "\n",
    "# Tokenization, Stop-word removal, and Bag-of-Words transformation\n",
    "vectorizer = CountVectorizer(stop_words='english', max_features=10000)\n",
    "X = vectorizer.fit_transform(df['combined_content'])\n",
    "tokens = vectorizer.get_feature_names_out()\n",
    "\n",
    "# Convert to Gensim's format\n",
    "corpus = Dictionary([tokens]).doc2bow(tokens)\n",
    "\n",
    "# LDA Topic Modeling\n",
    "lda_model = LdaModel([corpus], num_topics=10, id2word={i:word for i, word in enumerate(tokens)})\n",
    "\n",
    "# Print the topics\n",
    "topics = lda_model.print_topics(num_words=5)\n",
    "for topic in topics:\n",
    "    print(topic)"
   ]
  }
 ],
 "metadata": {
  "kernelspec": {
   "display_name": "Python 3",
   "language": "python",
   "name": "python3"
  },
  "language_info": {
   "codemirror_mode": {
    "name": "ipython",
    "version": 3
   },
   "file_extension": ".py",
   "mimetype": "text/x-python",
   "name": "python",
   "nbconvert_exporter": "python",
   "pygments_lexer": "ipython3",
   "version": "3.11.1"
  }
 },
 "nbformat": 4,
 "nbformat_minor": 2
}
